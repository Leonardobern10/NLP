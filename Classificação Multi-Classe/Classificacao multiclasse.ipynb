{
 "cells": [
  {
   "cell_type": "code",
   "execution_count": 3,
   "id": "365fd00f",
   "metadata": {},
   "outputs": [],
   "source": [
    "import pandas as pd"
   ]
  },
  {
   "cell_type": "code",
   "execution_count": 4,
   "id": "c325ca78",
   "metadata": {},
   "outputs": [
    {
     "data": {
      "text/html": [
       "<div>\n",
       "<style scoped>\n",
       "    .dataframe tbody tr th:only-of-type {\n",
       "        vertical-align: middle;\n",
       "    }\n",
       "\n",
       "    .dataframe tbody tr th {\n",
       "        vertical-align: top;\n",
       "    }\n",
       "\n",
       "    .dataframe thead th {\n",
       "        text-align: right;\n",
       "    }\n",
       "</style>\n",
       "<table border=\"1\" class=\"dataframe\">\n",
       "  <thead>\n",
       "    <tr style=\"text-align: right;\">\n",
       "      <th></th>\n",
       "      <th>ProductModelName</th>\n",
       "      <th>ProductCategory</th>\n",
       "      <th>ProductPrice</th>\n",
       "      <th>RetailerName</th>\n",
       "      <th>RetailerZip</th>\n",
       "      <th>RetailerCity</th>\n",
       "      <th>RetailerState</th>\n",
       "      <th>ProductOnSale</th>\n",
       "      <th>ManufacturerName</th>\n",
       "      <th>ManufacturerRebate</th>\n",
       "      <th>UserID</th>\n",
       "      <th>UserAge</th>\n",
       "      <th>UserGender</th>\n",
       "      <th>UserOccupation</th>\n",
       "      <th>ReviewRating</th>\n",
       "      <th>ReviewDate</th>\n",
       "      <th>ReviewText</th>\n",
       "    </tr>\n",
       "  </thead>\n",
       "  <tbody>\n",
       "    <tr>\n",
       "      <th>0</th>\n",
       "      <td>Samsung TV 60 LED</td>\n",
       "      <td>TV</td>\n",
       "      <td>1100</td>\n",
       "      <td>Walmart</td>\n",
       "      <td>94102</td>\n",
       "      <td>San Francisco</td>\n",
       "      <td>CA</td>\n",
       "      <td>Yes</td>\n",
       "      <td>Samsung</td>\n",
       "      <td>No</td>\n",
       "      <td>hueii17</td>\n",
       "      <td>37</td>\n",
       "      <td>Female</td>\n",
       "      <td>Manager</td>\n",
       "      <td>5</td>\n",
       "      <td>12/14/2014</td>\n",
       "      <td>Great staff with the sale!! They did an extrao...</td>\n",
       "    </tr>\n",
       "  </tbody>\n",
       "</table>\n",
       "</div>"
      ],
      "text/plain": [
       "    ProductModelName ProductCategory  ProductPrice RetailerName  RetailerZip  \\\n",
       "0  Samsung TV 60 LED              TV          1100      Walmart        94102   \n",
       "\n",
       "    RetailerCity RetailerState ProductOnSale ManufacturerName  \\\n",
       "0  San Francisco            CA           Yes          Samsung   \n",
       "\n",
       "  ManufacturerRebate   UserID  UserAge UserGender UserOccupation  \\\n",
       "0                 No  hueii17       37     Female        Manager   \n",
       "\n",
       "   ReviewRating  ReviewDate                                         ReviewText  \n",
       "0             5  12/14/2014  Great staff with the sale!! They did an extrao...  "
      ]
     },
     "execution_count": 4,
     "metadata": {},
     "output_type": "execute_result"
    }
   ],
   "source": [
    "dados = pd.read_csv('C:/Users/Paulo Roberto/Desktop/Customer Review.csv')\n",
    "dados.head(1)"
   ]
  },
  {
   "cell_type": "code",
   "execution_count": 5,
   "id": "6cef89cb",
   "metadata": {},
   "outputs": [
    {
     "data": {
      "text/plain": [
       "0       Great staff with the sale!! They did an extrao...\n",
       "1        really like this Samsung Galaxy 4. i don't us...\n",
       "2            The TV is great with superb picture quality.\n",
       "3       Its easy to carry and is more than a tablet it...\n",
       "4       Great laptop for the price. Does everything yo...\n",
       "                              ...                        \n",
       "1995    Great TV and a great price. Easy to set up. We...\n",
       "1996    love it! I Love the I phone's best and easiest...\n",
       "1997          The bluetooth didn't work with Bose headset\n",
       "1998    The surface pro 3 is a pretty good tablet comp...\n",
       "1999    Im very much impressed with the make and Perfo...\n",
       "Name: ReviewText, Length: 2000, dtype: object"
      ]
     },
     "execution_count": 5,
     "metadata": {},
     "output_type": "execute_result"
    }
   ],
   "source": [
    "#Comentários dos clientes sobre os produtos\n",
    "dados['ReviewText']"
   ]
  },
  {
   "cell_type": "code",
   "execution_count": 6,
   "id": "9485ff82",
   "metadata": {},
   "outputs": [
    {
     "data": {
      "text/plain": [
       "TV             600\n",
       "Tablet         600\n",
       "Smart Phone    400\n",
       "Laptop         400\n",
       "Name: ProductCategory, dtype: int64"
      ]
     },
     "execution_count": 6,
     "metadata": {},
     "output_type": "execute_result"
    }
   ],
   "source": [
    "#Categorias dos produtos comentados\n",
    "dados['ProductCategory'].value_counts()"
   ]
  },
  {
   "cell_type": "code",
   "execution_count": 7,
   "id": "7995d013",
   "metadata": {},
   "outputs": [
    {
     "data": {
      "text/plain": [
       "ProductModelName      0\n",
       "ProductCategory       0\n",
       "ProductPrice          0\n",
       "RetailerName          0\n",
       "RetailerZip           0\n",
       "RetailerCity          0\n",
       "RetailerState         0\n",
       "ProductOnSale         0\n",
       "ManufacturerName      0\n",
       "ManufacturerRebate    0\n",
       "UserID                0\n",
       "UserAge               0\n",
       "UserGender            0\n",
       "UserOccupation        0\n",
       "ReviewRating          0\n",
       "ReviewDate            0\n",
       "ReviewText            0\n",
       "dtype: int64"
      ]
     },
     "execution_count": 7,
     "metadata": {},
     "output_type": "execute_result"
    }
   ],
   "source": [
    "#Verificando se há valores ausentes\n",
    "dados.isnull().sum()"
   ]
  },
  {
   "cell_type": "code",
   "execution_count": 8,
   "id": "8b828572",
   "metadata": {},
   "outputs": [
    {
     "data": {
      "text/plain": [
       "0"
      ]
     },
     "execution_count": 8,
     "metadata": {},
     "output_type": "execute_result"
    }
   ],
   "source": [
    "#verificando se há valores duplicados\n",
    "dados['UserID'].duplicated().sum()"
   ]
  },
  {
   "cell_type": "code",
   "execution_count": 9,
   "id": "5c2780a3",
   "metadata": {},
   "outputs": [
    {
     "data": {
      "text/html": [
       "<div>\n",
       "<style scoped>\n",
       "    .dataframe tbody tr th:only-of-type {\n",
       "        vertical-align: middle;\n",
       "    }\n",
       "\n",
       "    .dataframe tbody tr th {\n",
       "        vertical-align: top;\n",
       "    }\n",
       "\n",
       "    .dataframe thead th {\n",
       "        text-align: right;\n",
       "    }\n",
       "</style>\n",
       "<table border=\"1\" class=\"dataframe\">\n",
       "  <thead>\n",
       "    <tr style=\"text-align: right;\">\n",
       "      <th></th>\n",
       "      <th>ProductCategory</th>\n",
       "      <th>ReviewText</th>\n",
       "    </tr>\n",
       "  </thead>\n",
       "  <tbody>\n",
       "    <tr>\n",
       "      <th>0</th>\n",
       "      <td>TV</td>\n",
       "      <td>Great staff with the sale!! They did an extrao...</td>\n",
       "    </tr>\n",
       "    <tr>\n",
       "      <th>1</th>\n",
       "      <td>Smart Phone</td>\n",
       "      <td>really like this Samsung Galaxy 4. i don't us...</td>\n",
       "    </tr>\n",
       "    <tr>\n",
       "      <th>2</th>\n",
       "      <td>TV</td>\n",
       "      <td>The TV is great with superb picture quality.</td>\n",
       "    </tr>\n",
       "    <tr>\n",
       "      <th>3</th>\n",
       "      <td>Tablet</td>\n",
       "      <td>Its easy to carry and is more than a tablet it...</td>\n",
       "    </tr>\n",
       "    <tr>\n",
       "      <th>4</th>\n",
       "      <td>Laptop</td>\n",
       "      <td>Great laptop for the price. Does everything yo...</td>\n",
       "    </tr>\n",
       "    <tr>\n",
       "      <th>...</th>\n",
       "      <td>...</td>\n",
       "      <td>...</td>\n",
       "    </tr>\n",
       "    <tr>\n",
       "      <th>1995</th>\n",
       "      <td>TV</td>\n",
       "      <td>Great TV and a great price. Easy to set up. We...</td>\n",
       "    </tr>\n",
       "    <tr>\n",
       "      <th>1996</th>\n",
       "      <td>Smart Phone</td>\n",
       "      <td>love it! I Love the I phone's best and easiest...</td>\n",
       "    </tr>\n",
       "    <tr>\n",
       "      <th>1997</th>\n",
       "      <td>Tablet</td>\n",
       "      <td>The bluetooth didn't work with Bose headset</td>\n",
       "    </tr>\n",
       "    <tr>\n",
       "      <th>1998</th>\n",
       "      <td>Tablet</td>\n",
       "      <td>The surface pro 3 is a pretty good tablet comp...</td>\n",
       "    </tr>\n",
       "    <tr>\n",
       "      <th>1999</th>\n",
       "      <td>Laptop</td>\n",
       "      <td>Im very much impressed with the make and Perfo...</td>\n",
       "    </tr>\n",
       "  </tbody>\n",
       "</table>\n",
       "<p>2000 rows × 2 columns</p>\n",
       "</div>"
      ],
      "text/plain": [
       "     ProductCategory                                         ReviewText\n",
       "0                 TV  Great staff with the sale!! They did an extrao...\n",
       "1        Smart Phone   really like this Samsung Galaxy 4. i don't us...\n",
       "2                 TV       The TV is great with superb picture quality.\n",
       "3             Tablet  Its easy to carry and is more than a tablet it...\n",
       "4             Laptop  Great laptop for the price. Does everything yo...\n",
       "...              ...                                                ...\n",
       "1995              TV  Great TV and a great price. Easy to set up. We...\n",
       "1996     Smart Phone  love it! I Love the I phone's best and easiest...\n",
       "1997          Tablet        The bluetooth didn't work with Bose headset\n",
       "1998          Tablet  The surface pro 3 is a pretty good tablet comp...\n",
       "1999          Laptop  Im very much impressed with the make and Perfo...\n",
       "\n",
       "[2000 rows x 2 columns]"
      ]
     },
     "execution_count": 9,
     "metadata": {},
     "output_type": "execute_result"
    }
   ],
   "source": [
    "#Selecionando as informações necessária\n",
    "dados1 = pd.concat([dados['ProductCategory'], dados['ReviewText']], axis = 1)\n",
    "dados1"
   ]
  },
  {
   "cell_type": "code",
   "execution_count": 10,
   "id": "b3d31bb8",
   "metadata": {},
   "outputs": [
    {
     "data": {
      "text/html": [
       "<div>\n",
       "<style scoped>\n",
       "    .dataframe tbody tr th:only-of-type {\n",
       "        vertical-align: middle;\n",
       "    }\n",
       "\n",
       "    .dataframe tbody tr th {\n",
       "        vertical-align: top;\n",
       "    }\n",
       "\n",
       "    .dataframe thead th {\n",
       "        text-align: right;\n",
       "    }\n",
       "</style>\n",
       "<table border=\"1\" class=\"dataframe\">\n",
       "  <thead>\n",
       "    <tr style=\"text-align: right;\">\n",
       "      <th></th>\n",
       "      <th>ProductCategory</th>\n",
       "      <th>ReviewText</th>\n",
       "      <th>Id_categoria</th>\n",
       "    </tr>\n",
       "  </thead>\n",
       "  <tbody>\n",
       "    <tr>\n",
       "      <th>0</th>\n",
       "      <td>TV</td>\n",
       "      <td>Great staff with the sale!! They did an extrao...</td>\n",
       "      <td>0</td>\n",
       "    </tr>\n",
       "    <tr>\n",
       "      <th>1</th>\n",
       "      <td>Smart Phone</td>\n",
       "      <td>really like this Samsung Galaxy 4. i don't us...</td>\n",
       "      <td>1</td>\n",
       "    </tr>\n",
       "    <tr>\n",
       "      <th>2</th>\n",
       "      <td>TV</td>\n",
       "      <td>The TV is great with superb picture quality.</td>\n",
       "      <td>0</td>\n",
       "    </tr>\n",
       "    <tr>\n",
       "      <th>3</th>\n",
       "      <td>Tablet</td>\n",
       "      <td>Its easy to carry and is more than a tablet it...</td>\n",
       "      <td>2</td>\n",
       "    </tr>\n",
       "    <tr>\n",
       "      <th>4</th>\n",
       "      <td>Laptop</td>\n",
       "      <td>Great laptop for the price. Does everything yo...</td>\n",
       "      <td>3</td>\n",
       "    </tr>\n",
       "  </tbody>\n",
       "</table>\n",
       "</div>"
      ],
      "text/plain": [
       "  ProductCategory                                         ReviewText  \\\n",
       "0              TV  Great staff with the sale!! They did an extrao...   \n",
       "1     Smart Phone   really like this Samsung Galaxy 4. i don't us...   \n",
       "2              TV       The TV is great with superb picture quality.   \n",
       "3          Tablet  Its easy to carry and is more than a tablet it...   \n",
       "4          Laptop  Great laptop for the price. Does everything yo...   \n",
       "\n",
       "   Id_categoria  \n",
       "0             0  \n",
       "1             1  \n",
       "2             0  \n",
       "3             2  \n",
       "4             3  "
      ]
     },
     "execution_count": 10,
     "metadata": {},
     "output_type": "execute_result"
    }
   ],
   "source": [
    "#enumerando as categorias\n",
    "dados1['Id_categoria'] = dados1['ProductCategory'].factorize()[0]\n",
    "dados1.head()"
   ]
  },
  {
   "cell_type": "code",
   "execution_count": 12,
   "id": "f800c52e",
   "metadata": {},
   "outputs": [
    {
     "data": {
      "text/plain": [
       "0    600\n",
       "2    600\n",
       "1    400\n",
       "3    400\n",
       "Name: Id_categoria, dtype: int64"
      ]
     },
     "execution_count": 12,
     "metadata": {},
     "output_type": "execute_result"
    }
   ],
   "source": [
    "id_categoria = dados1['Id_categoria']\n",
    "id_categoria.value_counts()"
   ]
  },
  {
   "cell_type": "code",
   "execution_count": 13,
   "id": "07113b7a",
   "metadata": {},
   "outputs": [
    {
     "data": {
      "text/plain": [
       "ProductCategory\n",
       "Laptop         400\n",
       "Smart Phone    400\n",
       "TV             600\n",
       "Tablet         600\n",
       "dtype: int64"
      ]
     },
     "execution_count": 13,
     "metadata": {},
     "output_type": "execute_result"
    }
   ],
   "source": [
    "dados1.groupby(['ProductCategory']).size()"
   ]
  },
  {
   "cell_type": "code",
   "execution_count": 14,
   "id": "2844e376",
   "metadata": {},
   "outputs": [
    {
     "data": {
      "text/plain": [
       "<AxesSubplot: xlabel='ProductCategory'>"
      ]
     },
     "execution_count": 14,
     "metadata": {},
     "output_type": "execute_result"
    },
    {
     "data": {
      "image/png": "[encoded data removed]",
      "text/plain": [
       "<Figure size 640x480 with 1 Axes>"
      ]
     },
     "metadata": {},
     "output_type": "display_data"
    }
   ],
   "source": [
    "#vendo a distribuição dos produtos\n",
    "dados1.groupby('ProductCategory').size().plot.bar()"
   ]
  },
  {
   "cell_type": "code",
   "execution_count": 31,
   "id": "84529e73",
   "metadata": {},
   "outputs": [
    {
     "data": {
      "text/plain": [
       "405          Tablet\n",
       "1190         Laptop\n",
       "1132         Tablet\n",
       "731              TV\n",
       "1754    Smart Phone\n",
       "           ...     \n",
       "841              TV\n",
       "108          Tablet\n",
       "665              TV\n",
       "1214         Laptop\n",
       "2                TV\n",
       "Name: ProductCategory, Length: 600, dtype: object"
      ]
     },
     "execution_count": 31,
     "metadata": {},
     "output_type": "execute_result"
    }
   ],
   "source": [
    "#dividir o conjunto de dados entre treino e teste\n",
    "from sklearn.model_selection import train_test_split\n",
    "x_treino, x_teste, y_treino, y_teste = train_test_split(dados['ReviewText'],\n",
    "                                                       dados['ProductCategory'],\n",
    "                                                       test_size = 0.3,\n",
    "                                                       random_state = 0)\n",
    "y_teste"
   ]
  },
  {
   "cell_type": "code",
   "execution_count": 33,
   "id": "1c5432a3",
   "metadata": {},
   "outputs": [],
   "source": [
    "#Engenharia de atributos utilizando tf-idf\n",
    "from sklearn.preprocessing import LabelEncoder\n",
    "from sklearn.feature_extraction.text import TfidfVectorizer\n",
    "\n",
    "lb = LabelEncoder()\n",
    "y_treino = lb.fit_transform(y_treino)\n",
    "y_teste = lb.fit_transform(y_teste)\n",
    "\n",
    "tfidf_vect = TfidfVectorizer(analyzer = 'word', token_pattern = r'\\w{1,}', max_features = 5000)\n",
    "tfidf_vect.fit(dados1['ReviewText'])\n",
    "x_treino_tfidf = tfidf_vect.transform(x_treino)\n",
    "x_teste_tfidf = tfidf_vect.transform(x_teste)"
   ]
  },
  {
   "cell_type": "code",
   "execution_count": 34,
   "id": "ffcdedd1",
   "metadata": {},
   "outputs": [
    {
     "data": {
      "text/html": [
       "<style>#sk-container-id-1 {color: black;background-color: white;}#sk-container-id-1 pre{padding: 0;}#sk-container-id-1 div.sk-toggleable {background-color: white;}#sk-container-id-1 label.sk-toggleable__label {cursor: pointer;display: block;width: 100%;margin-bottom: 0;padding: 0.3em;box-sizing: border-box;text-align: center;}#sk-container-id-1 label.sk-toggleable__label-arrow:before {content: \"▸\";float: left;margin-right: 0.25em;color: #696969;}#sk-container-id-1 label.sk-toggleable__label-arrow:hover:before {color: black;}#sk-container-id-1 div.sk-estimator:hover label.sk-toggleable__label-arrow:before {color: black;}#sk-container-id-1 div.sk-toggleable__content {max-height: 0;max-width: 0;overflow: hidden;text-align: left;background-color: #f0f8ff;}#sk-container-id-1 div.sk-toggleable__content pre {margin: 0.2em;color: black;border-radius: 0.25em;background-color: #f0f8ff;}#sk-container-id-1 input.sk-toggleable__control:checked~div.sk-toggleable__content {max-height: 200px;max-width: 100%;overflow: auto;}#sk-container-id-1 input.sk-toggleable__control:checked~label.sk-toggleable__label-arrow:before {content: \"▾\";}#sk-container-id-1 div.sk-estimator input.sk-toggleable__control:checked~label.sk-toggleable__label {background-color: #d4ebff;}#sk-container-id-1 div.sk-label input.sk-toggleable__control:checked~label.sk-toggleable__label {background-color: #d4ebff;}#sk-container-id-1 input.sk-hidden--visually {border: 0;clip: rect(1px 1px 1px 1px);clip: rect(1px, 1px, 1px, 1px);height: 1px;margin: -1px;overflow: hidden;padding: 0;position: absolute;width: 1px;}#sk-container-id-1 div.sk-estimator {font-family: monospace;background-color: #f0f8ff;border: 1px dotted black;border-radius: 0.25em;box-sizing: border-box;margin-bottom: 0.5em;}#sk-container-id-1 div.sk-estimator:hover {background-color: #d4ebff;}#sk-container-id-1 div.sk-parallel-item::after {content: \"\";width: 100%;border-bottom: 1px solid gray;flex-grow: 1;}#sk-container-id-1 div.sk-label:hover label.sk-toggleable__label {background-color: #d4ebff;}#sk-container-id-1 div.sk-serial::before {content: \"\";position: absolute;border-left: 1px solid gray;box-sizing: border-box;top: 0;bottom: 0;left: 50%;z-index: 0;}#sk-container-id-1 div.sk-serial {display: flex;flex-direction: column;align-items: center;background-color: white;padding-right: 0.2em;padding-left: 0.2em;position: relative;}#sk-container-id-1 div.sk-item {position: relative;z-index: 1;}#sk-container-id-1 div.sk-parallel {display: flex;align-items: stretch;justify-content: center;background-color: white;position: relative;}#sk-container-id-1 div.sk-item::before, #sk-container-id-1 div.sk-parallel-item::before {content: \"\";position: absolute;border-left: 1px solid gray;box-sizing: border-box;top: 0;bottom: 0;left: 50%;z-index: -1;}#sk-container-id-1 div.sk-parallel-item {display: flex;flex-direction: column;z-index: 1;position: relative;background-color: white;}#sk-container-id-1 div.sk-parallel-item:first-child::after {align-self: flex-end;width: 50%;}#sk-container-id-1 div.sk-parallel-item:last-child::after {align-self: flex-start;width: 50%;}#sk-container-id-1 div.sk-parallel-item:only-child::after {width: 0;}#sk-container-id-1 div.sk-dashed-wrapped {border: 1px dashed gray;margin: 0 0.4em 0.5em 0.4em;box-sizing: border-box;padding-bottom: 0.4em;background-color: white;}#sk-container-id-1 div.sk-label label {font-family: monospace;font-weight: bold;display: inline-block;line-height: 1.2em;}#sk-container-id-1 div.sk-label-container {text-align: center;}#sk-container-id-1 div.sk-container {/* jupyter's `normalize.less` sets `[hidden] { display: none; }` but bootstrap.min.css set `[hidden] { display: none !important; }` so we also need the `!important` here to be able to override the default hidden behavior on the sphinx rendered scikit-learn.org. See: https://github.com/scikit-learn/scikit-learn/issues/21755 */display: inline-block !important;position: relative;}#sk-container-id-1 div.sk-text-repr-fallback {display: none;}</style><div id=\"sk-container-id-1\" class=\"sk-top-container\"><div class=\"sk-text-repr-fallback\"><pre>LogisticRegression()</pre><b>In a Jupyter environment, please rerun this cell to show the HTML representation or trust the notebook. <br />On GitHub, the HTML representation is unable to render, please try loading this page with nbviewer.org.</b></div><div class=\"sk-container\" hidden><div class=\"sk-item\"><div class=\"sk-estimator sk-toggleable\"><input class=\"sk-toggleable__control sk-hidden--visually\" id=\"sk-estimator-id-1\" type=\"checkbox\" checked><label for=\"sk-estimator-id-1\" class=\"sk-toggleable__label sk-toggleable__label-arrow\">LogisticRegression</label><div class=\"sk-toggleable__content\"><pre>LogisticRegression()</pre></div></div></div></div></div>"
      ],
      "text/plain": [
       "LogisticRegression()"
      ]
     },
     "execution_count": 34,
     "metadata": {},
     "output_type": "execute_result"
    }
   ],
   "source": [
    "#Construindo o modelo e avaliando\n",
    "from sklearn.linear_model import LogisticRegression\n",
    "\n",
    "modelo = LogisticRegression()\n",
    "modelo.fit(x_treino_tfidf, y_treino)"
   ]
  },
  {
   "cell_type": "code",
   "execution_count": 40,
   "id": "fa46dc60",
   "metadata": {},
   "outputs": [
    {
     "data": {
      "text/plain": [
       "array([3, 3, 3, 2, 1, 1, 3, 1, 1, 3, 3, 1, 3, 3, 3, 2, 3, 3, 3, 2, 2, 1,\n",
       "       3, 3, 2, 2, 3, 3, 3, 1, 0, 3, 3, 3, 3, 3, 3, 0, 2, 3, 3, 3, 1, 0,\n",
       "       2, 2, 1, 2, 2, 1, 1, 3, 2, 2, 1, 0, 1, 0, 3, 3, 3, 3, 1, 3, 1, 3,\n",
       "       1, 2, 2, 3, 2, 2, 3, 3, 3, 3, 2, 3, 2, 3, 3, 2, 3, 0, 2, 2, 3, 3,\n",
       "       3, 1, 3, 3, 1, 2, 3, 3, 3, 3, 2, 0, 0, 1, 3, 2, 3, 0, 2, 1, 1, 1,\n",
       "       2, 2, 2, 2, 3, 1, 2, 2, 2, 3, 0, 3, 3, 3, 2, 2, 1, 1, 3, 3, 1, 0,\n",
       "       2, 3, 2, 3, 2, 0, 0, 0, 3, 0, 0, 0, 1, 1, 2, 3, 0, 2, 1, 0, 3, 3,\n",
       "       3, 3, 0, 2, 0, 2, 3, 3, 2, 3, 2, 2, 1, 3, 2, 3, 3, 2, 1, 1, 2, 3,\n",
       "       2, 3, 3, 1, 3, 2, 3, 3, 0, 3, 1, 2, 2, 0, 2, 2, 0, 2, 3, 3, 2, 0,\n",
       "       0, 0, 3, 2, 3, 0, 0, 3, 3, 2, 3, 2, 3, 3, 0, 3, 2, 3, 2, 2, 0, 3,\n",
       "       2, 3, 3, 3, 1, 2, 2, 2, 0, 2, 0, 3, 0, 1, 2, 1, 2, 3, 0, 2, 3, 2,\n",
       "       2, 0, 2, 2, 2, 3, 2, 0, 1, 1, 2, 2, 3, 2, 3, 0, 2, 3, 0, 3, 0, 1,\n",
       "       0, 2, 0, 0, 3, 3, 3, 3, 2, 2, 0, 2, 3, 0, 2, 1, 0, 2, 1, 2, 2, 3,\n",
       "       1, 3, 2, 0, 2, 2, 1, 3, 0, 2, 1, 1, 2, 0, 3, 3, 1, 1, 0, 3, 0, 3,\n",
       "       3, 3, 3, 3, 1, 0, 2, 2, 2, 3, 3, 3, 3, 3, 3, 0, 3, 0, 3, 2, 0, 3,\n",
       "       2, 2, 1, 0, 0, 0, 3, 3, 1, 0, 3, 1, 1, 0, 2, 3, 3, 2, 3, 3, 3, 1,\n",
       "       2, 2, 3, 2, 1, 1, 0, 0, 3, 1, 2, 0, 0, 3, 2, 3, 2, 3, 3, 3, 0, 1,\n",
       "       0, 3, 3, 0, 2, 2, 0, 0, 3, 3, 3, 2, 2, 0, 1, 3, 3, 0, 3, 2, 3, 3,\n",
       "       1, 1, 2, 0, 1, 2, 2, 1, 3, 2, 3, 1, 0, 2, 3, 3, 3, 2, 2, 3, 0, 1,\n",
       "       2, 3, 3, 3, 3, 2, 0, 1, 0, 3, 3, 3, 3, 2, 1, 3, 2, 1, 3, 3, 2, 2,\n",
       "       2, 3, 2, 2, 0, 3, 2, 1, 2, 3, 3, 0, 2, 0, 3, 3, 0, 3, 0, 2, 3, 2,\n",
       "       2, 1, 3, 3, 0, 3, 2, 0, 1, 0, 1, 3, 2, 1, 3, 3, 2, 3, 1, 2, 0, 2,\n",
       "       0, 0, 3, 2, 3, 1, 1, 0, 2, 2, 0, 0, 0, 2, 2, 1, 1, 3, 2, 3, 2, 1,\n",
       "       2, 3, 2, 2, 0, 2, 3, 0, 3, 2, 2, 0, 3, 1, 2, 2, 3, 2, 2, 2, 2, 2,\n",
       "       3, 3, 3, 3, 3, 3, 3, 0, 2, 2, 3, 1, 2, 3, 2, 3, 3, 1, 3, 2, 3, 2,\n",
       "       2, 3, 2, 0, 1, 1, 1, 2, 1, 1, 2, 1, 3, 3, 0, 1, 3, 1, 0, 1, 1, 3,\n",
       "       3, 2, 0, 2, 3, 2, 2, 2, 2, 1, 2, 2, 2, 2, 0, 3, 1, 2, 2, 1, 2, 2,\n",
       "       1, 3, 3, 2, 3, 2], dtype=int64)"
      ]
     },
     "execution_count": 40,
     "metadata": {},
     "output_type": "execute_result"
    }
   ],
   "source": [
    "#Observando as previsões\n",
    "previsao = modelo.predict(x_teste_tfidf)\n",
    "previsao"
   ]
  },
  {
   "cell_type": "code",
   "execution_count": 36,
   "id": "6798886e",
   "metadata": {},
   "outputs": [
    {
     "name": "stdout",
     "output_type": "stream",
     "text": [
      "Accuracy: 0.75\n"
     ]
    }
   ],
   "source": [
    "#Verificando a precisão\n",
    "from sklearn.metrics import accuracy_score, confusion_matrix\n",
    "accuracy = accuracy_score(previsao, y_teste)\n",
    "print(\"Accuracy: {:.2f}\".format(accuracy))"
   ]
  },
  {
   "cell_type": "code",
   "execution_count": 37,
   "id": "c03320b7",
   "metadata": {},
   "outputs": [
    {
     "name": "stdout",
     "output_type": "stream",
     "text": [
      "              precision    recall  f1-score   support\n",
      "\n",
      "          TV       0.80      0.60      0.69       133\n",
      " Smart Phone       0.93      0.76      0.84       117\n",
      "      Tablet       0.80      0.82      0.81       180\n",
      "      Laptop       0.61      0.79      0.69       170\n",
      "\n",
      "    accuracy                           0.75       600\n",
      "   macro avg       0.78      0.74      0.76       600\n",
      "weighted avg       0.77      0.75      0.75       600\n",
      "\n"
     ]
    }
   ],
   "source": [
    "#Registros de classificação\n",
    "from sklearn.metrics import classification_report\n",
    "import numpy as np\n",
    "print(classification_report(y_teste, previsao, target_names = dados1['ProductCategory'].unique()))"
   ]
  },
  {
   "cell_type": "code",
   "execution_count": 38,
   "id": "a31ef0c1",
   "metadata": {},
   "outputs": [
    {
     "data": {
      "text/plain": [
       "array([[ 80,   2,  15,  36],\n",
       "       [  4,  89,   3,  21],\n",
       "       [  3,   1, 148,  28],\n",
       "       [ 13,   4,  19, 134]], dtype=int64)"
      ]
     },
     "execution_count": 38,
     "metadata": {},
     "output_type": "execute_result"
    }
   ],
   "source": [
    "#Gerando uma matriz de confusão\n",
    "confusao = confusion_matrix(y_teste, previsao)\n",
    "confusao"
   ]
  },
  {
   "cell_type": "code",
   "execution_count": 41,
   "id": "c84d62fb",
   "metadata": {},
   "outputs": [
    {
     "data": {
      "image/png": "[encoded data removed]",
      "text/plain": [
       "<Figure size 800x550 with 1 Axes>"
      ]
     },
     "metadata": {},
     "output_type": "display_data"
    },
    {
     "data": {
      "text/plain": [
       "<AxesSubplot: title={'center': 'LogisticRegression Confusion Matrix'}, xlabel='Predicted Class', ylabel='True Class'>"
      ]
     },
     "execution_count": 41,
     "metadata": {},
     "output_type": "execute_result"
    }
   ],
   "source": [
    "#vizualizando a matriz de confusao\n",
    "from yellowbrick.classifier import ConfusionMatrix\n",
    "v = ConfusionMatrix(LogisticRegression(), \n",
    "                    classes = ['Tv', 'Smartphone', 'Tablet', 'Laptop'],\n",
    "                   label_encoder = {0:'Tv', 1:'Smartphone', 2:'Tablet', 3: 'Laptop'})\n",
    "v.fit(x_treino_tfidf, y_treino)\n",
    "v.score(x_teste_tfidf, y_teste)\n",
    "v.poof()"
   ]
  },
  {
   "cell_type": "markdown",
   "id": "2bafaad7",
   "metadata": {},
   "source": [
    "# Fim"
   ]
  }
 ],
 "metadata": {
  "kernelspec": {
   "display_name": "Python 3 (ipykernel)",
   "language": "python",
   "name": "python3"
  },
  "language_info": {
   "codemirror_mode": {
    "name": "ipython",
    "version": 3
   },
   "file_extension": ".py",
   "mimetype": "text/x-python",
   "name": "python",
   "nbconvert_exporter": "python",
   "pygments_lexer": "ipython3",
   "version": "3.10.7"
  }
 },
 "nbformat": 4,
 "nbformat_minor": 5
}
